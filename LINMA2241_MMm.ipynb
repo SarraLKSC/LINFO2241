{
  "cells": [
    {
      "cell_type": "code",
      "execution_count": null,
      "metadata": {
        "id": "W_dZ0b_5tKrN"
      },
      "outputs": [],
      "source": [
        "import math\n",
        "import matplotlib.pyplot as plt\n"
      ]
    },
    {
      "cell_type": "code",
      "execution_count": null,
      "metadata": {
        "id": "F5QWYojLr_Iq"
      },
      "outputs": [],
      "source": [
        "def compute_pi_0(lmbda,mu,m):\n",
        "  a=lmbda/mu\n",
        "  X=lmbda/(m*mu)\n",
        "  sum=0\n",
        "  for i in range(m):\n",
        "    sum=sum+ math.pow(a,1)/math.factorial(i)\n",
        "  result=sum + ( math.pow(a,m))/(math.factorial(m)*(1-X))\n",
        "  return 1/result\n",
        "\n",
        "def response_time(lmbda,mu,m):\n",
        "  a=lmbda/mu\n",
        "  X=lmbda/(m*mu)\n",
        "  pi_0= compute_pi_0(lmbda,mu,m)\n",
        "  top=math.pow(a,m) * X\n",
        "  bottom= math.pow(1-X,2) * math.factorial(m) \n",
        "  result= a + top* pi_0 /bottom\n",
        "  return result/lmbda"
      ]
    },
    {
      "cell_type": "code",
      "execution_count": null,
      "metadata": {
        "colab": {
          "base_uri": "https://localhost:8080/"
        },
        "id": "KVqNKv6ltkri",
        "outputId": "8babe90e-5068-4320-ccb8-191097c35306"
      },
      "outputs": [
        {
          "output_type": "execute_result",
          "data": {
            "text/plain": [
              "6"
            ]
          },
          "metadata": {},
          "execution_count": 21
        }
      ],
      "source": [
        "math.factorial(3)"
      ]
    },
    {
      "cell_type": "code",
      "execution_count": null,
      "metadata": {
        "colab": {
          "base_uri": "https://localhost:8080/"
        },
        "id": "VSZTYSbhtwxB",
        "outputId": "c4558256-c562-47fc-a30a-dbdd1ec11669"
      },
      "outputs": [
        {
          "output_type": "execute_result",
          "data": {
            "text/plain": [
              "8.0"
            ]
          },
          "metadata": {},
          "execution_count": 22
        }
      ],
      "source": [
        "math.pow(2,3)"
      ]
    },
    {
      "cell_type": "code",
      "execution_count": null,
      "metadata": {
        "colab": {
          "base_uri": "https://localhost:8080/"
        },
        "id": "7gJn0TMtt2rW",
        "outputId": "9f78c1b4-a95e-4886-bdd1-ca079a995d58"
      },
      "outputs": [
        {
          "output_type": "execute_result",
          "data": {
            "text/plain": [
              "1.0000000000000215"
            ]
          },
          "metadata": {},
          "execution_count": 23
        }
      ],
      "source": [
        "response_time(1,1,15)"
      ]
    },
    {
      "cell_type": "code",
      "execution_count": null,
      "metadata": {
        "colab": {
          "base_uri": "https://localhost:8080/",
          "height": 310
        },
        "id": "gZGNTnyowfs6",
        "outputId": "1e2aec6c-ce10-4148-c6b7-b7ee39d95ec1"
      },
      "outputs": [
        {
          "output_type": "display_data",
          "data": {
            "image/png": "[encoded data removed]",
            "text/plain": [
              "<Figure size 432x288 with 1 Axes>"
            ]
          },
          "metadata": {
            "needs_background": "light"
          }
        }
      ],
      "source": [
        "x=[i for i in range(2,30)]\n",
        "y=[response_time(1,1,i) for i in range(2,30)]\n",
        "\n",
        "plt.plot(x,y)\n",
        "plt.grid()\n",
        "plt.title(\"base case MMm  \\n\",fontweight=\"bold\")\n",
        "plt.xlabel(\"m\")\n",
        "plt.ylabel(\"Response time\")\n",
        "plt.show()"
      ]
    },
    {
      "cell_type": "code",
      "execution_count": null,
      "metadata": {
        "colab": {
          "base_uri": "https://localhost:8080/"
        },
        "id": "jPB4Y8v4w8Cy",
        "outputId": "57c6ffe6-285f-4c39-9187-b29deedeea7a"
      },
      "outputs": [
        {
          "output_type": "stream",
          "name": "stdout",
          "text": [
            "[1.9607843137254901, 1.8181818181818181, 1.1494252873563218, 0.2777777777777778, 0.1]\n"
          ]
        }
      ],
      "source": [
        "E_S=[0.51,0.55,0.87,3.6,10]\n",
        "mu=[1/i for i in E_S]\n",
        "print(mu)"
      ]
    },
    {
      "cell_type": "code",
      "source": [
        "1/0.016"
      ],
      "metadata": {
        "colab": {
          "base_uri": "https://localhost:8080/"
        },
        "id": "j3FB03GfrSTF",
        "outputId": "693b72d0-d58c-4956-ec23-78566d4bcaba"
      },
      "execution_count": null,
      "outputs": [
        {
          "output_type": "execute_result",
          "data": {
            "text/plain": [
              "62.5"
            ]
          },
          "metadata": {},
          "execution_count": 36
        }
      ]
    },
    {
      "cell_type": "code",
      "source": [
        "x=[i for i in range(2,30)]\n",
        "y1=[response_time(1,1.96,i) for i in range(2,30)]\n",
        "y2=[response_time(1,1.81,i) for i in range(2,30)]\n",
        "y3=[response_time(1,1.149,i) for i in range(2,30)]\n",
        "y4=[response_time(1,60,i) for i in range(2,30)]\n",
        "\n",
        "\n",
        "\n",
        "plt.plot(x,y1,label=\"E[S]=0.51\")\n",
        "plt.plot(x,y2,label=\"E[S]=0.55\")\n",
        "plt.plot(x,y3,label=\"E[S]=0.87\")\n",
        "plt.plot(x,y4,label=\"E[S]=0.016\")\n",
        "\n",
        "plt.legend()\n",
        "plt.grid()\n",
        "plt.title(\"M|M|m queueing station\\n\",fontweight=\"bold\")\n",
        "plt.xlabel(\"m\")\n",
        "plt.ylabel(\"E[R]\")\n",
        "plt.show()"
      ],
      "metadata": {
        "colab": {
          "base_uri": "https://localhost:8080/",
          "height": 310
        },
        "id": "Y_vZmUFlifdY",
        "outputId": "5e5fc890-fae0-4554-e476-166e8ae188ed"
      },
      "execution_count": null,
      "outputs": [
        {
          "output_type": "display_data",
          "data": {
            "image/png": "[encoded data removed]",
            "text/plain": [
              "<Figure size 432x288 with 1 Axes>"
            ]
          },
          "metadata": {
            "needs_background": "light"
          }
        }
      ]
    },
    {
      "cell_type": "code",
      "source": [
        ""
      ],
      "metadata": {
        "id": "J302k3G7jE-g"
      },
      "execution_count": null,
      "outputs": []
    }
  ],
  "metadata": {
    "colab": {
      "name": "LINMA2241_MMm.ipynb",
      "provenance": [],
      "collapsed_sections": []
    },
    "kernelspec": {
      "display_name": "Python 3",
      "name": "python3"
    },
    "language_info": {
      "name": "python"
    }
  },
  "nbformat": 4,
  "nbformat_minor": 0
}